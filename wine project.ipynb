{
 "cells": [
  {
   "cell_type": "code",
   "execution_count": 1,
   "metadata": {},
   "outputs": [],
   "source": [
    "import numpy as np\n",
    "import pandas as pd\n",
    "import csv\n"
   ]
  },
  {
   "cell_type": "code",
   "execution_count": 6,
   "metadata": {},
   "outputs": [],
   "source": [
    "info=pd.read_csv('desktop/SIT/python/PROJECTS/wine_project/dataset/wine.csv')\n",
    "data=pd.read_csv('desktop/SIT/python/PROJECTS/wine_project/dataset/wine_total_dataset.csv')\n"
   ]
  },
  {
   "cell_type": "code",
   "execution_count": 7,
   "metadata": {},
   "outputs": [],
   "source": [
    "data_arr=np.array(data)\n"
   ]
  },
  {
   "cell_type": "code",
   "execution_count": 8,
   "metadata": {},
   "outputs": [],
   "source": [
    "col0=data_arr[:,0]\n",
    "col1=data_arr[:,1]\n",
    "col2=data_arr[:,2]\n",
    "col3=data_arr[:,3]\n"
   ]
  },
  {
   "cell_type": "code",
   "execution_count": 9,
   "metadata": {},
   "outputs": [],
   "source": [
    "for j in range(179):\n",
    "    vars()[\"srp\"+str(j)]=[]\n",
    "for q in range(179):\n",
    "    vars()[\"srpc\"+str(q)]=[]\n"
   ]
  },
  {
   "cell_type": "code",
   "execution_count": 10,
   "metadata": {},
   "outputs": [],
   "source": [
    "for i in range(179):\n",
    "    for j in range(179):\n",
    "        cf=col2[j]-col2[i]\n",
    "        if(cf<0.001 and cf>(-0.001) and cf!=0):\n",
    "            vars()[\"srp\"+str(i)].append(col0[j])\n"
   ]
  },
  {
   "cell_type": "code",
   "execution_count": 11,
   "metadata": {},
   "outputs": [],
   "source": [
    "i=0\n",
    "j=0\n",
    "cf=0\n",
    "q=0\n"
   ]
  },
  {
   "cell_type": "code",
   "execution_count": 12,
   "metadata": {},
   "outputs": [],
   "source": [
    "for i in range(179):\n",
    "    for j in range(179):\n",
    "        if(col1[j]==col1[i]):\n",
    "            cf=col2[j]-col2[i]\n",
    "            if(cf<0.001 and cf>(-0.001) and cf!=0):\n",
    "                vars()[\"srpc\"+str(i)].append(col0[j])\n"
   ]
  },
  {
   "cell_type": "code",
   "execution_count": 13,
   "metadata": {},
   "outputs": [],
   "source": [
    "i=0\n",
    "j=0\n",
    "cf=0\n",
    "q=0\n"
   ]
  },
  {
   "cell_type": "code",
   "execution_count": 14,
   "metadata": {},
   "outputs": [],
   "source": [
    "for j in range(179):\n",
    "    vars()[\"src\"+str(j)]=[]\n",
    "for q in range(179):\n",
    "    vars()[\"srcc\"+str(q)]=[]\n"
   ]
  },
  {
   "cell_type": "code",
   "execution_count": 15,
   "metadata": {},
   "outputs": [],
   "source": [
    "for i in range(178):\n",
    "    for j in range(178):\n",
    "        cf=col3[j]-col3[i]\n",
    "        if(cf<0.001 and cf>(-0.001) and cf!=0):\n",
    "            vars()[\"src\"+str(i)].append(col0[j])\n"
   ]
  },
  {
   "cell_type": "code",
   "execution_count": 16,
   "metadata": {},
   "outputs": [],
   "source": [
    "i=0\n",
    "j=0\n",
    "cf=0\n"
   ]
  },
  {
   "cell_type": "code",
   "execution_count": 17,
   "metadata": {},
   "outputs": [],
   "source": [
    "for i in range(178):\n",
    "    for j in range(178):\n",
    "        if(col1[j]==col1[i]):\n",
    "            cf=col3[j]-col3[i]\n",
    "            if(cf<0.001 and cf>(-0.001) and cf!=0):\n",
    "                vars()[\"srcc\"+str(i)].append(col0[j])"
   ]
  },
  {
   "cell_type": "code",
   "execution_count": 18,
   "metadata": {},
   "outputs": [
    {
     "data": {
      "text/plain": [
       "['Sr.2',\n",
       " 'Sr.3',\n",
       " 'Sr.6',\n",
       " 'Sr.7',\n",
       " 'Sr.8',\n",
       " 'Sr.9',\n",
       " 'Sr.10',\n",
       " 'Sr.11',\n",
       " 'Sr.12',\n",
       " 'Sr.13',\n",
       " 'Sr.14',\n",
       " 'Sr.15',\n",
       " 'Sr.16',\n",
       " 'Sr.17',\n",
       " 'Sr.18',\n",
       " 'Sr.20',\n",
       " 'Sr.21',\n",
       " 'Sr.22',\n",
       " 'Sr.23',\n",
       " 'Sr.24',\n",
       " 'Sr.25',\n",
       " 'Sr.27',\n",
       " 'Sr.28',\n",
       " 'Sr.29',\n",
       " 'Sr.30',\n",
       " 'Sr.31',\n",
       " 'Sr.32',\n",
       " 'Sr.33',\n",
       " 'Sr.34',\n",
       " 'Sr.35',\n",
       " 'Sr.36',\n",
       " 'Sr.37',\n",
       " 'Sr.38',\n",
       " 'Sr.40',\n",
       " 'Sr.42',\n",
       " 'Sr.44',\n",
       " 'Sr.45',\n",
       " 'Sr.46',\n",
       " 'Sr.47',\n",
       " 'Sr.48',\n",
       " 'Sr.49',\n",
       " 'Sr.50',\n",
       " 'Sr.51',\n",
       " 'Sr.52',\n",
       " 'Sr.53',\n",
       " 'Sr.54',\n",
       " 'Sr.55',\n",
       " 'Sr.56',\n",
       " 'Sr.57',\n",
       " 'Sr.58']"
      ]
     },
     "execution_count": 18,
     "metadata": {},
     "output_type": "execute_result"
    }
   ],
   "source": [
    "srcc1"
   ]
  },
  {
   "cell_type": "code",
   "execution_count": 1,
   "metadata": {},
   "outputs": [
    {
     "ename": "NameError",
     "evalue": "name 'info' is not defined",
     "output_type": "error",
     "traceback": [
      "\u001b[0;31m---------------------------------------------------------------------------\u001b[0m",
      "\u001b[0;31mNameError\u001b[0m                                 Traceback (most recent call last)",
      "\u001b[0;32m<ipython-input-1-886ead46232a>\u001b[0m in \u001b[0;36m<module>\u001b[0;34m\u001b[0m\n\u001b[0;32m----> 1\u001b[0;31m \u001b[0minfo\u001b[0m\u001b[0;34m\u001b[0m\u001b[0;34m\u001b[0m\u001b[0m\n\u001b[0m",
      "\u001b[0;31mNameError\u001b[0m: name 'info' is not defined"
     ]
    }
   ],
   "source": [
    "info"
   ]
  },
  {
   "cell_type": "code",
   "execution_count": null,
   "metadata": {},
   "outputs": [],
   "source": []
  }
 ],
 "metadata": {
  "kernelspec": {
   "display_name": "Python 3",
   "language": "python",
   "name": "python3"
  },
  "language_info": {
   "codemirror_mode": {
    "name": "ipython",
    "version": 3
   },
   "file_extension": ".py",
   "mimetype": "text/x-python",
   "name": "python",
   "nbconvert_exporter": "python",
   "pygments_lexer": "ipython3",
   "version": "3.7.1"
  }
 },
 "nbformat": 4,
 "nbformat_minor": 2
}
